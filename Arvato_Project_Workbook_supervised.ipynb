{
 "cells": [
  {
   "cell_type": "code",
   "execution_count": 1,
   "metadata": {},
   "outputs": [
    {
     "name": "stdout",
     "output_type": "stream",
     "text": [
      "Requirement already satisfied: progressbar in c:\\users\\yesil\\anaconda3\\envs\\udacity_env\\lib\\site-packages (2.5)\n"
     ]
    }
   ],
   "source": [
    "!pip install progressbar"
   ]
  },
  {
   "cell_type": "code",
   "execution_count": 35,
   "metadata": {},
   "outputs": [],
   "source": [
    "# import libraries here; add more as necessary\n",
    "import numpy as np\n",
    "import pandas as pd\n",
    "import matplotlib.pyplot as plt\n",
    "import seaborn as sns\n",
    "import pickle\n",
    "import copy\n",
    "import warnings\n",
    "\n",
    "from etl.etl import Data_Correction, AttributeMapping, ratio_missing, impute_na, categorize, etl_transform, etl_save_data\n",
    "\n",
    "import sklearn\n",
    "from sklearn.preprocessing import StandardScaler\n",
    "from sklearn.decomposition import PCA\n",
    "from sklearn.cluster import MiniBatchKMeans, KMeans\n",
    "from sklearn.model_selection import train_test_split\n",
    "from sklearn.pipeline import Pipeline, make_pipeline\n",
    "from sklearn.ensemble import GradientBoostingClassifier, RandomForestClassifier\n",
    "from sklearn.neighbors import KNeighborsClassifier\n",
    "from sklearn.naive_bayes import GaussianNB\n",
    "from sklearn.model_selection import GridSearchCV, cross_val_score\n",
    "from sklearn.metrics import make_scorer, plot_confusion_matrix, roc_auc_score\n",
    "\n",
    "\n",
    "import progressbar\n",
    "\n",
    "# magic word for producing visualizations in notebook\n",
    "%matplotlib inline\n",
    "\n",
    "warnings.filterwarnings(\"ignore\")\n",
    "\n",
    "pd.set_option('display.max_columns', 30000)"
   ]
  },
  {
   "cell_type": "markdown",
   "metadata": {},
   "source": [
    "## Part 2: Supervised Learning Model\n",
    "\n",
    "Now that you've found which parts of the population are more likely to be customers of the mail-order company, it's time to build a prediction model. Each of the rows in the \"MAILOUT\" data files represents an individual that was targeted for a mailout campaign. Ideally, we should be able to use the demographic information from each individual to decide whether or not it will be worth it to include that person in the campaign.\n",
    "\n",
    "The \"MAILOUT\" data has been split into two approximately equal parts, each with almost 43 000 data rows. In this part, you can verify your model with the \"TRAIN\" partition, which includes a column, \"RESPONSE\", that states whether or not a person became a customer of the company following the campaign. In the next part, you'll need to create predictions on the \"TEST\" partition, where the \"RESPONSE\" column has been withheld."
   ]
  },
  {
   "cell_type": "code",
   "execution_count": 3,
   "metadata": {},
   "outputs": [],
   "source": [
    "#mailout_train = pd.read_csv('../../data/Term2/capstone/arvato_data/Udacity_MAILOUT_052018_TRAIN.csv', sep=';', dtype=str)\n",
    "\n",
    "mailout_train = pd.read_csv('Udacity_MAILOUT_052018_TRAIN.csv', sep=';', dtype=str)"
   ]
  },
  {
   "cell_type": "code",
   "execution_count": 4,
   "metadata": {},
   "outputs": [],
   "source": [
    "target = mailout_train[['LNR', 'RESPONSE']]\n",
    "target.set_index('LNR', inplace=True)\n",
    "target = target.astype(float)"
   ]
  },
  {
   "cell_type": "code",
   "execution_count": 5,
   "metadata": {},
   "outputs": [],
   "source": [
    "with open('ref_features.pkl', 'rb') as f:\n",
    "    ref_features = pickle.load(f)\n",
    "    \n",
    "with open('attr_mapping.pkl', 'rb') as f:\n",
    "    attr_mapping = pickle.load(f)"
   ]
  },
  {
   "cell_type": "markdown",
   "metadata": {},
   "source": [
    "### Data Cleaning"
   ]
  },
  {
   "cell_type": "code",
   "execution_count": 6,
   "metadata": {
    "scrolled": false
   },
   "outputs": [
    {
     "name": "stdout",
     "output_type": "stream",
     "text": [
      "Correcting issues on edge cases...\n"
     ]
    },
    {
     "name": "stderr",
     "output_type": "stream",
     "text": [
      "[=====================                                                   ]  29%\r"
     ]
    },
    {
     "name": "stdout",
     "output_type": "stream",
     "text": [
      "Checking for irregular values...\n"
     ]
    },
    {
     "name": "stderr",
     "output_type": "stream",
     "text": [
      "[========================================================================] 100%\n"
     ]
    },
    {
     "name": "stdout",
     "output_type": "stream",
     "text": [
      "Decoding missing or unknown values as NaN...\n"
     ]
    },
    {
     "name": "stderr",
     "output_type": "stream",
     "text": [
      "[========================================================================] 100%\n"
     ]
    },
    {
     "name": "stdout",
     "output_type": "stream",
     "text": [
      "getting the subset of the data with the reference features...\n",
      "Correcting data types...\n",
      "Assigning float to numeric features...\n",
      "Assigning string to qualitative features...\n"
     ]
    },
    {
     "name": "stderr",
     "output_type": "stream",
     "text": [
      "[====================                                                    ]  28%\r"
     ]
    },
    {
     "name": "stdout",
     "output_type": "stream",
     "text": [
      "Imputing missing values...\n",
      "Imputing quantitative features...\n"
     ]
    },
    {
     "name": "stderr",
     "output_type": "stream",
     "text": [
      "[========================================================================] 100%\n",
      "[========================================================================] 100%\n"
     ]
    },
    {
     "name": "stdout",
     "output_type": "stream",
     "text": [
      "Imputing qualitative features...\n",
      "OneHot Encoding data...\n"
     ]
    },
    {
     "name": "stderr",
     "output_type": "stream",
     "text": [
      "[========================================================================] 100%\r"
     ]
    },
    {
     "name": "stdout",
     "output_type": "stream",
     "text": [
      "Finishing.\n"
     ]
    },
    {
     "name": "stderr",
     "output_type": "stream",
     "text": [
      "\n"
     ]
    }
   ],
   "source": [
    "mailout_train_cleaned,_ = etl_transform(mailout_train, attr_mapping, ref_features, scaler=None, apply_scaler=False)"
   ]
  },
  {
   "cell_type": "markdown",
   "metadata": {},
   "source": [
    "### Training-Testing Data Preperation\n",
    "\n",
    "Applying a test-train split on the data"
   ]
  },
  {
   "cell_type": "code",
   "execution_count": 7,
   "metadata": {},
   "outputs": [],
   "source": [
    "X_train, X_test, y_train, y_test = train_test_split(mailout_train_cleaned, target, stratify=target, test_size=0.2)"
   ]
  },
  {
   "cell_type": "markdown",
   "metadata": {},
   "source": [
    "Removing the bias in the training data. However this does come with a significant cost of loosing data with label 0"
   ]
  },
  {
   "cell_type": "code",
   "execution_count": 8,
   "metadata": {},
   "outputs": [],
   "source": [
    "y_train_0 = y_train[y_train['RESPONSE']==0].sample(y_train[y_train['RESPONSE']==1].shape[0]*1)\n",
    "y_train_1 = y_train[y_train['RESPONSE']==1]\n",
    "y_train_modified = pd.concat([y_train_0, y_train_1])\n",
    "X_train_modified = X_train.loc[y_train_modified.index]"
   ]
  },
  {
   "cell_type": "markdown",
   "metadata": {},
   "source": [
    "Investigating the training and test data sets"
   ]
  },
  {
   "cell_type": "code",
   "execution_count": 9,
   "metadata": {
    "scrolled": false
   },
   "outputs": [
    {
     "data": {
      "image/png": "[encoded data removed]",
      "text/plain": [
       "<Figure size 1008x1080 with 2 Axes>"
      ]
     },
     "metadata": {
      "needs_background": "light"
     },
     "output_type": "display_data"
    }
   ],
   "source": [
    "plt.figure(figsize=(14,15))\n",
    "plt.subplot(2,1,1)\n",
    "(y_train_modified['RESPONSE'].value_counts()/y_train_modified['RESPONSE'].shape[0]*100).plot(kind='bar')\n",
    "plt.ylim((0, 100))\n",
    "plt.xlabel('Response state')\n",
    "plt.ylabel('Ratio %')\n",
    "plt.title('Distribution of Response State in the Training Data')\n",
    "\n",
    "plt.subplot(2,1,2)\n",
    "(y_test['RESPONSE'].value_counts()/y_test['RESPONSE'].shape[0]*100).plot(kind='bar')\n",
    "plt.ylim((0, 100))\n",
    "plt.xlabel('Response state')\n",
    "plt.ylabel('Ratio %')\n",
    "plt.title('Distribution of Response State in the Validation Data')\n",
    "plt.show()"
   ]
  },
  {
   "cell_type": "markdown",
   "metadata": {},
   "source": [
    "The training set labels are distributed evenly as intended however, there is a huge bias that can be seen in the test data.\n",
    "\n",
    "### Model Selection\n",
    "\n",
    "Creating the Supervised Learning pipelines. 4 models will be tested, these are KNN, RandomForestClassifier, GradientBoostingClassifier and GaussianNB (naive bayes)."
   ]
  },
  {
   "cell_type": "code",
   "execution_count": 10,
   "metadata": {},
   "outputs": [],
   "source": [
    "models = dict([])\n",
    "estimators = {'KNN_clf': KNeighborsClassifier(),\n",
    "              'RF_clf': RandomForestClassifier(),\n",
    "              'GB_clf': GradientBoostingClassifier(),\n",
    "              'NB_clf': GaussianNB()}\n",
    "\n",
    "# Creating dictionary of pipelines\n",
    "pipelines = dict([])\n",
    "for key, val in estimators.items():\n",
    "    pipelines[key] = Pipeline([('scaler', StandardScaler()),\n",
    "                               ('pca', PCA(200)),\n",
    "                               ('clf', val)\n",
    "                              ])"
   ]
  },
  {
   "cell_type": "markdown",
   "metadata": {},
   "source": [
    "Generating the evaluation function as ROC-AUC\n",
    "\n",
    "ROC AUC is used as the evaluation metric for the model. This is because this metric works with the final prediction label. Another advantage is that it is more sensitive in biased data which is our case with our test set."
   ]
  },
  {
   "cell_type": "code",
   "execution_count": 11,
   "metadata": {},
   "outputs": [],
   "source": [
    "roc_auc_scorer = make_scorer(roc_auc_score, greater_is_better=True)"
   ]
  },
  {
   "cell_type": "markdown",
   "metadata": {},
   "source": [
    "To keep the models comparable to one another, the number of neighbours for KNN and n estimators parameters for RandomForest and GradientBoostingClassifier will be tuned with grid search."
   ]
  },
  {
   "cell_type": "code",
   "execution_count": 12,
   "metadata": {},
   "outputs": [],
   "source": [
    "parameters_KNN = {\n",
    "        'clf__n_neighbors': [3, 5, 8, 10, 15]\n",
    "        }\n",
    "\n",
    "parameters_ensemble =  {\n",
    "        'clf__n_estimators': [500, 750, 1000, 1250, 1500]\n",
    "        }\n",
    "\n",
    "model_KNN = GridSearchCV(pipelines['KNN_clf'], param_grid=parameters_KNN, n_jobs=-1, verbose=10, cv=5, return_train_score=True, scoring=roc_auc_scorer)\n",
    "model_RF = GridSearchCV(pipelines['RF_clf'], param_grid=parameters_ensemble, n_jobs=-1, verbose=10, cv=5, return_train_score=True, scoring=roc_auc_scorer)\n",
    "model_GB = GridSearchCV(pipelines['GB_clf'], param_grid=parameters_ensemble, n_jobs=-1, verbose=10, cv=5, return_train_score=True, scoring=roc_auc_scorer)\n",
    "model_NB = pipelines['NB_clf']"
   ]
  },
  {
   "cell_type": "markdown",
   "metadata": {},
   "source": [
    "Calculating the best obtained scores for the model using grid search and corss validation score for GaussianNB."
   ]
  },
  {
   "cell_type": "code",
   "execution_count": 13,
   "metadata": {
    "scrolled": false
   },
   "outputs": [
    {
     "name": "stdout",
     "output_type": "stream",
     "text": [
      "Fitting 5 folds for each of 5 candidates, totalling 25 fits\n"
     ]
    },
    {
     "name": "stderr",
     "output_type": "stream",
     "text": [
      "[Parallel(n_jobs=-1)]: Using backend LokyBackend with 8 concurrent workers.\n",
      "[Parallel(n_jobs=-1)]: Done   2 tasks      | elapsed:    2.5s\n",
      "[Parallel(n_jobs=-1)]: Done   9 tasks      | elapsed:    3.0s\n",
      "[Parallel(n_jobs=-1)]: Done  13 out of  25 | elapsed:    3.1s remaining:    2.9s\n",
      "[Parallel(n_jobs=-1)]: Done  16 out of  25 | elapsed:    3.2s remaining:    1.8s\n",
      "[Parallel(n_jobs=-1)]: Done  19 out of  25 | elapsed:    3.6s remaining:    1.1s\n",
      "[Parallel(n_jobs=-1)]: Done  22 out of  25 | elapsed:    3.7s remaining:    0.4s\n",
      "[Parallel(n_jobs=-1)]: Done  25 out of  25 | elapsed:    3.9s remaining:    0.0s\n",
      "[Parallel(n_jobs=-1)]: Done  25 out of  25 | elapsed:    3.9s finished\n"
     ]
    },
    {
     "name": "stdout",
     "output_type": "stream",
     "text": [
      "Fitting 5 folds for each of 5 candidates, totalling 25 fits\n"
     ]
    },
    {
     "name": "stderr",
     "output_type": "stream",
     "text": [
      "[Parallel(n_jobs=-1)]: Using backend LokyBackend with 8 concurrent workers.\n",
      "[Parallel(n_jobs=-1)]: Done   2 tasks      | elapsed:    4.0s\n",
      "[Parallel(n_jobs=-1)]: Done   9 tasks      | elapsed:    9.9s\n",
      "[Parallel(n_jobs=-1)]: Done  13 out of  25 | elapsed:   12.5s remaining:   11.5s\n",
      "[Parallel(n_jobs=-1)]: Done  16 out of  25 | elapsed:   17.0s remaining:    9.5s\n",
      "[Parallel(n_jobs=-1)]: Done  19 out of  25 | elapsed:   21.6s remaining:    6.7s\n",
      "[Parallel(n_jobs=-1)]: Done  22 out of  25 | elapsed:   24.8s remaining:    3.3s\n",
      "[Parallel(n_jobs=-1)]: Done  25 out of  25 | elapsed:   28.9s remaining:    0.0s\n",
      "[Parallel(n_jobs=-1)]: Done  25 out of  25 | elapsed:   28.9s finished\n"
     ]
    },
    {
     "name": "stdout",
     "output_type": "stream",
     "text": [
      "Fitting 5 folds for each of 5 candidates, totalling 25 fits\n"
     ]
    },
    {
     "name": "stderr",
     "output_type": "stream",
     "text": [
      "[Parallel(n_jobs=-1)]: Using backend LokyBackend with 8 concurrent workers.\n",
      "[Parallel(n_jobs=-1)]: Done   2 tasks      | elapsed:   20.1s\n",
      "[Parallel(n_jobs=-1)]: Done   9 tasks      | elapsed:   49.6s\n",
      "[Parallel(n_jobs=-1)]: Done  13 out of  25 | elapsed:  1.1min remaining:   58.5s\n",
      "[Parallel(n_jobs=-1)]: Done  16 out of  25 | elapsed:  1.4min remaining:   46.8s\n",
      "[Parallel(n_jobs=-1)]: Done  19 out of  25 | elapsed:  1.9min remaining:   35.3s\n",
      "[Parallel(n_jobs=-1)]: Done  22 out of  25 | elapsed:  2.0min remaining:   16.7s\n",
      "[Parallel(n_jobs=-1)]: Done  25 out of  25 | elapsed:  2.4min remaining:    0.0s\n",
      "[Parallel(n_jobs=-1)]: Done  25 out of  25 | elapsed:  2.4min finished\n"
     ]
    },
    {
     "data": {
      "text/plain": [
       "Pipeline(memory=None,\n",
       "         steps=[('scaler',\n",
       "                 StandardScaler(copy=True, with_mean=True, with_std=True)),\n",
       "                ('pca',\n",
       "                 PCA(copy=True, iterated_power='auto', n_components=200,\n",
       "                     random_state=None, svd_solver='auto', tol=0.0,\n",
       "                     whiten=False)),\n",
       "                ('clf', GaussianNB(priors=None, var_smoothing=1e-09))],\n",
       "         verbose=False)"
      ]
     },
     "execution_count": 13,
     "metadata": {},
     "output_type": "execute_result"
    }
   ],
   "source": [
    "KNN_score = model_KNN.fit(X_train_modified, y_train_modified).best_score_\n",
    "RF_score = model_RF.fit(X_train_modified, y_train_modified).best_score_\n",
    "GB_score = model_GB.fit(X_train_modified, y_train_modified).best_score_\n",
    "NB_score = cross_val_score(model_NB, X_train_modified, y_train_modified, cv=5, scoring=roc_auc_scorer).mean()\n",
    "#as a additinal step model_NB also needs to be fitted to the data\n",
    "model_NB.fit(X_train_modified, y_train_modified)"
   ]
  },
  {
   "cell_type": "markdown",
   "metadata": {},
   "source": [
    "As a additional step the test set is used to validate the model performance with ROC AUC score."
   ]
  },
  {
   "cell_type": "code",
   "execution_count": 14,
   "metadata": {},
   "outputs": [],
   "source": [
    "KNN_score_test = roc_auc_scorer(model_KNN, X_test, y_test)\n",
    "RF_score_test = roc_auc_scorer(model_RF, X_test, y_test)\n",
    "GB_score_test = roc_auc_scorer(model_GB, X_test, y_test)\n",
    "NB_score_test = roc_auc_scorer(model_NB, X_test, y_test)"
   ]
  },
  {
   "cell_type": "markdown",
   "metadata": {},
   "source": [
    "Evaluating the findings"
   ]
  },
  {
   "cell_type": "code",
   "execution_count": 15,
   "metadata": {},
   "outputs": [
    {
     "name": "stdout",
     "output_type": "stream",
     "text": [
      "-KNN- \n",
      "Training Score: 0.54\n",
      "Test Score: 0.53\n",
      " -x--x--x--x--x-\n",
      "-RF- \n",
      "Training Score: 0.54\n",
      "Test Score: 0.53\n",
      " -x--x--x--x--x-\n",
      "-GB- \n",
      "Training Score: 0.53\n",
      "Test Score: 0.51\n",
      " -x--x--x--x--x-\n",
      "-NB- \n",
      "Training Score: 0.52\n",
      "Test Score: 0.51\n",
      " -x--x--x--x--x-\n"
     ]
    }
   ],
   "source": [
    "print('-KNN- \\nTraining Score: %.2f\\nTest Score: %.2f\\n' % (KNN_score, KNN_score_test), '-x-' *5)\n",
    "print('-RF- \\nTraining Score: %.2f\\nTest Score: %.2f\\n' % (RF_score, RF_score_test), '-x-' *5)\n",
    "print('-GB- \\nTraining Score: %.2f\\nTest Score: %.2f\\n' % (GB_score, GB_score_test), '-x-' *5)\n",
    "print('-NB- \\nTraining Score: %.2f\\nTest Score: %.2f\\n' % (NB_score, NB_score_test), '-x-' *5)"
   ]
  },
  {
   "cell_type": "markdown",
   "metadata": {},
   "source": [
    "The above results show that KNN and RF gives a higher ROC AUC score then the other models in the test and training sets. Therefore for further optimization KNN is selected because it is faster to train."
   ]
  },
  {
   "cell_type": "markdown",
   "metadata": {},
   "source": [
    "### Hyper Parameter Tuning"
   ]
  },
  {
   "cell_type": "code",
   "execution_count": 16,
   "metadata": {
    "scrolled": false
   },
   "outputs": [
    {
     "data": {
      "text/plain": [
       "{'memory': None,\n",
       " 'steps': [('scaler',\n",
       "   StandardScaler(copy=True, with_mean=True, with_std=True)),\n",
       "  ('pca',\n",
       "   PCA(copy=True, iterated_power='auto', n_components=200, random_state=None,\n",
       "       svd_solver='auto', tol=0.0, whiten=False)),\n",
       "  ('clf',\n",
       "   KNeighborsClassifier(algorithm='auto', leaf_size=30, metric='minkowski',\n",
       "                        metric_params=None, n_jobs=None, n_neighbors=5, p=2,\n",
       "                        weights='uniform'))],\n",
       " 'verbose': False,\n",
       " 'scaler': StandardScaler(copy=True, with_mean=True, with_std=True),\n",
       " 'pca': PCA(copy=True, iterated_power='auto', n_components=200, random_state=None,\n",
       "     svd_solver='auto', tol=0.0, whiten=False),\n",
       " 'clf': KNeighborsClassifier(algorithm='auto', leaf_size=30, metric='minkowski',\n",
       "                      metric_params=None, n_jobs=None, n_neighbors=5, p=2,\n",
       "                      weights='uniform'),\n",
       " 'scaler__copy': True,\n",
       " 'scaler__with_mean': True,\n",
       " 'scaler__with_std': True,\n",
       " 'pca__copy': True,\n",
       " 'pca__iterated_power': 'auto',\n",
       " 'pca__n_components': 200,\n",
       " 'pca__random_state': None,\n",
       " 'pca__svd_solver': 'auto',\n",
       " 'pca__tol': 0.0,\n",
       " 'pca__whiten': False,\n",
       " 'clf__algorithm': 'auto',\n",
       " 'clf__leaf_size': 30,\n",
       " 'clf__metric': 'minkowski',\n",
       " 'clf__metric_params': None,\n",
       " 'clf__n_jobs': None,\n",
       " 'clf__n_neighbors': 5,\n",
       " 'clf__p': 2,\n",
       " 'clf__weights': 'uniform'}"
      ]
     },
     "execution_count": 16,
     "metadata": {},
     "output_type": "execute_result"
    }
   ],
   "source": [
    "pipelines['KNN_clf'].get_params()"
   ]
  },
  {
   "cell_type": "code",
   "execution_count": 17,
   "metadata": {},
   "outputs": [],
   "source": [
    "parameters_selected_model = {\n",
    "    'pca__n_components': [100, 150, 200],\n",
    "    'clf__leaf_size': list(range(20, 101, 10)),\n",
    "    'clf__n_neighbors': list(range(2, 30, 3)),\n",
    "    'clf__p': [1, 2, 3]\n",
    "    }"
   ]
  },
  {
   "cell_type": "code",
   "execution_count": 18,
   "metadata": {
    "scrolled": false
   },
   "outputs": [
    {
     "name": "stdout",
     "output_type": "stream",
     "text": [
      "Fitting 5 folds for each of 810 candidates, totalling 4050 fits\n"
     ]
    },
    {
     "name": "stderr",
     "output_type": "stream",
     "text": [
      "[Parallel(n_jobs=-1)]: Using backend LokyBackend with 8 concurrent workers.\n",
      "[Parallel(n_jobs=-1)]: Done   2 tasks      | elapsed:    0.2s\n",
      "[Parallel(n_jobs=-1)]: Done   9 tasks      | elapsed:    0.6s\n",
      "[Parallel(n_jobs=-1)]: Done  16 tasks      | elapsed:    0.9s\n",
      "[Parallel(n_jobs=-1)]: Done  25 tasks      | elapsed:    1.4s\n",
      "[Parallel(n_jobs=-1)]: Done  34 tasks      | elapsed:    3.9s\n",
      "[Parallel(n_jobs=-1)]: Done  45 tasks      | elapsed:    7.0s\n",
      "[Parallel(n_jobs=-1)]: Done  56 tasks      | elapsed:    8.4s\n",
      "[Parallel(n_jobs=-1)]: Done  69 tasks      | elapsed:    9.4s\n",
      "[Parallel(n_jobs=-1)]: Done  82 tasks      | elapsed:   13.1s\n",
      "[Parallel(n_jobs=-1)]: Done  97 tasks      | elapsed:   15.9s\n",
      "[Parallel(n_jobs=-1)]: Done 112 tasks      | elapsed:   17.1s\n",
      "[Parallel(n_jobs=-1)]: Done 129 tasks      | elapsed:   22.3s\n",
      "[Parallel(n_jobs=-1)]: Done 146 tasks      | elapsed:   24.7s\n",
      "[Parallel(n_jobs=-1)]: Done 165 tasks      | elapsed:   26.6s\n",
      "[Parallel(n_jobs=-1)]: Done 184 tasks      | elapsed:   32.3s\n",
      "[Parallel(n_jobs=-1)]: Done 205 tasks      | elapsed:   34.2s\n",
      "[Parallel(n_jobs=-1)]: Done 226 tasks      | elapsed:   40.2s\n",
      "[Parallel(n_jobs=-1)]: Done 249 tasks      | elapsed:   42.5s\n",
      "[Parallel(n_jobs=-1)]: Done 272 tasks      | elapsed:   48.9s\n",
      "[Parallel(n_jobs=-1)]: Done 297 tasks      | elapsed:   51.3s\n",
      "[Parallel(n_jobs=-1)]: Done 322 tasks      | elapsed:   58.3s\n",
      "[Parallel(n_jobs=-1)]: Done 349 tasks      | elapsed:  1.0min\n",
      "[Parallel(n_jobs=-1)]: Done 376 tasks      | elapsed:  1.1min\n",
      "[Parallel(n_jobs=-1)]: Done 405 tasks      | elapsed:  1.2min\n",
      "[Parallel(n_jobs=-1)]: Done 434 tasks      | elapsed:  1.3min\n",
      "[Parallel(n_jobs=-1)]: Done 465 tasks      | elapsed:  1.4min\n",
      "[Parallel(n_jobs=-1)]: Done 496 tasks      | elapsed:  1.5min\n",
      "[Parallel(n_jobs=-1)]: Done 529 tasks      | elapsed:  1.6min\n",
      "[Parallel(n_jobs=-1)]: Done 562 tasks      | elapsed:  1.7min\n",
      "[Parallel(n_jobs=-1)]: Done 597 tasks      | elapsed:  1.8min\n",
      "[Parallel(n_jobs=-1)]: Done 632 tasks      | elapsed:  1.9min\n",
      "[Parallel(n_jobs=-1)]: Done 669 tasks      | elapsed:  2.0min\n",
      "[Parallel(n_jobs=-1)]: Done 706 tasks      | elapsed:  2.1min\n",
      "[Parallel(n_jobs=-1)]: Done 745 tasks      | elapsed:  2.2min\n",
      "[Parallel(n_jobs=-1)]: Done 784 tasks      | elapsed:  2.4min\n",
      "[Parallel(n_jobs=-1)]: Done 825 tasks      | elapsed:  2.5min\n",
      "[Parallel(n_jobs=-1)]: Done 866 tasks      | elapsed:  2.7min\n",
      "[Parallel(n_jobs=-1)]: Done 909 tasks      | elapsed:  2.8min\n",
      "[Parallel(n_jobs=-1)]: Done 952 tasks      | elapsed:  2.9min\n",
      "[Parallel(n_jobs=-1)]: Done 997 tasks      | elapsed:  3.1min\n",
      "[Parallel(n_jobs=-1)]: Done 1042 tasks      | elapsed:  3.2min\n",
      "[Parallel(n_jobs=-1)]: Done 1089 tasks      | elapsed:  3.3min\n",
      "[Parallel(n_jobs=-1)]: Done 1136 tasks      | elapsed:  3.5min\n",
      "[Parallel(n_jobs=-1)]: Done 1185 tasks      | elapsed:  3.6min\n",
      "[Parallel(n_jobs=-1)]: Done 1234 tasks      | elapsed:  3.8min\n",
      "[Parallel(n_jobs=-1)]: Done 1285 tasks      | elapsed:  3.9min\n",
      "[Parallel(n_jobs=-1)]: Done 1336 tasks      | elapsed:  4.1min\n",
      "[Parallel(n_jobs=-1)]: Done 1389 tasks      | elapsed:  4.3min\n",
      "[Parallel(n_jobs=-1)]: Done 1442 tasks      | elapsed:  4.5min\n",
      "[Parallel(n_jobs=-1)]: Done 1497 tasks      | elapsed:  4.6min\n",
      "[Parallel(n_jobs=-1)]: Done 1552 tasks      | elapsed:  4.8min\n",
      "[Parallel(n_jobs=-1)]: Done 1609 tasks      | elapsed:  5.0min\n",
      "[Parallel(n_jobs=-1)]: Done 1666 tasks      | elapsed:  5.2min\n",
      "[Parallel(n_jobs=-1)]: Done 1725 tasks      | elapsed:  5.3min\n",
      "[Parallel(n_jobs=-1)]: Done 1784 tasks      | elapsed:  5.5min\n",
      "[Parallel(n_jobs=-1)]: Done 1845 tasks      | elapsed:  5.8min\n",
      "[Parallel(n_jobs=-1)]: Done 1906 tasks      | elapsed:  5.9min\n",
      "[Parallel(n_jobs=-1)]: Done 1969 tasks      | elapsed:  6.1min\n",
      "[Parallel(n_jobs=-1)]: Done 2032 tasks      | elapsed:  6.3min\n",
      "[Parallel(n_jobs=-1)]: Done 2097 tasks      | elapsed:  6.5min\n",
      "[Parallel(n_jobs=-1)]: Done 2162 tasks      | elapsed:  6.8min\n",
      "[Parallel(n_jobs=-1)]: Done 2229 tasks      | elapsed:  6.9min\n",
      "[Parallel(n_jobs=-1)]: Done 2296 tasks      | elapsed:  7.2min\n",
      "[Parallel(n_jobs=-1)]: Done 2365 tasks      | elapsed:  7.4min\n",
      "[Parallel(n_jobs=-1)]: Done 2434 tasks      | elapsed:  7.6min\n",
      "[Parallel(n_jobs=-1)]: Done 2505 tasks      | elapsed:  7.8min\n",
      "[Parallel(n_jobs=-1)]: Done 2576 tasks      | elapsed:  8.1min\n",
      "[Parallel(n_jobs=-1)]: Done 2649 tasks      | elapsed:  8.3min\n",
      "[Parallel(n_jobs=-1)]: Done 2722 tasks      | elapsed:  8.5min\n",
      "[Parallel(n_jobs=-1)]: Done 2797 tasks      | elapsed:  8.8min\n",
      "[Parallel(n_jobs=-1)]: Done 2872 tasks      | elapsed:  9.0min\n",
      "[Parallel(n_jobs=-1)]: Done 2949 tasks      | elapsed:  9.2min\n",
      "[Parallel(n_jobs=-1)]: Done 3026 tasks      | elapsed:  9.5min\n",
      "[Parallel(n_jobs=-1)]: Done 3105 tasks      | elapsed:  9.8min\n",
      "[Parallel(n_jobs=-1)]: Done 3184 tasks      | elapsed: 10.0min\n",
      "[Parallel(n_jobs=-1)]: Done 3265 tasks      | elapsed: 10.3min\n",
      "[Parallel(n_jobs=-1)]: Done 3346 tasks      | elapsed: 10.6min\n",
      "[Parallel(n_jobs=-1)]: Done 3429 tasks      | elapsed: 10.8min\n",
      "[Parallel(n_jobs=-1)]: Done 3512 tasks      | elapsed: 11.1min\n",
      "[Parallel(n_jobs=-1)]: Done 3597 tasks      | elapsed: 11.4min\n",
      "[Parallel(n_jobs=-1)]: Done 3682 tasks      | elapsed: 11.7min\n",
      "[Parallel(n_jobs=-1)]: Done 3769 tasks      | elapsed: 12.0min\n",
      "[Parallel(n_jobs=-1)]: Done 3856 tasks      | elapsed: 12.3min\n",
      "[Parallel(n_jobs=-1)]: Done 3945 tasks      | elapsed: 12.6min\n",
      "[Parallel(n_jobs=-1)]: Done 4034 tasks      | elapsed: 12.8min\n",
      "[Parallel(n_jobs=-1)]: Done 4050 out of 4050 | elapsed: 13.0min finished\n"
     ]
    },
    {
     "data": {
      "text/plain": [
       "GridSearchCV(cv=5, error_score=nan,\n",
       "             estimator=Pipeline(memory=None,\n",
       "                                steps=[('scaler',\n",
       "                                        StandardScaler(copy=True,\n",
       "                                                       with_mean=True,\n",
       "                                                       with_std=True)),\n",
       "                                       ('pca',\n",
       "                                        PCA(copy=True, iterated_power='auto',\n",
       "                                            n_components=200, random_state=None,\n",
       "                                            svd_solver='auto', tol=0.0,\n",
       "                                            whiten=False)),\n",
       "                                       ('clf',\n",
       "                                        KNeighborsClassifier(algorithm='auto',\n",
       "                                                             leaf_size=30,\n",
       "                                                             metric='minkowski',\n",
       "                                                             metric_params=None,\n",
       "                                                             n_jobs=None,\n",
       "                                                             n_neighbors=5, p=2,\n",
       "                                                             weights='uniform'))],\n",
       "                                verbose=False),\n",
       "             iid='deprecated', n_jobs=-1,\n",
       "             param_grid={'clf__leaf_size': [20, 30, 40, 50, 60, 70, 80, 90,\n",
       "                                            100],\n",
       "                         'clf__n_neighbors': [2, 5, 8, 11, 14, 17, 20, 23, 26,\n",
       "                                              29],\n",
       "                         'clf__p': [1, 2, 3],\n",
       "                         'pca__n_components': [100, 150, 200]},\n",
       "             pre_dispatch='2*n_jobs', refit=True, return_train_score=True,\n",
       "             scoring=make_scorer(roc_auc_score), verbose=10)"
      ]
     },
     "execution_count": 18,
     "metadata": {},
     "output_type": "execute_result"
    }
   ],
   "source": [
    "selected_model = GridSearchCV(pipelines['KNN_clf'], param_grid=parameters_selected_model, n_jobs=-1, verbose=10, cv=5, return_train_score=True, scoring=roc_auc_scorer)\n",
    "selected_model.fit(X_train_modified, y_train_modified)"
   ]
  },
  {
   "cell_type": "markdown",
   "metadata": {},
   "source": [
    "Checking what was found from gridseach"
   ]
  },
  {
   "cell_type": "code",
   "execution_count": 19,
   "metadata": {},
   "outputs": [
    {
     "name": "stdout",
     "output_type": "stream",
     "text": [
      "{'clf__leaf_size': 20, 'clf__n_neighbors': 5, 'clf__p': 1, 'pca__n_components': 150}\n"
     ]
    }
   ],
   "source": [
    "print(selected_model.best_params_)"
   ]
  },
  {
   "cell_type": "markdown",
   "metadata": {},
   "source": [
    "### Testing the Model"
   ]
  },
  {
   "cell_type": "code",
   "execution_count": 20,
   "metadata": {},
   "outputs": [
    {
     "name": "stdout",
     "output_type": "stream",
     "text": [
      "Training Score: 0.55\n",
      "Test Score: 0.51\n"
     ]
    }
   ],
   "source": [
    "print('Training Score: %.2f\\nTest Score: %.2f' %(selected_model.best_score_, roc_auc_scorer(selected_model, X_test, y_test)))"
   ]
  },
  {
   "cell_type": "code",
   "execution_count": 36,
   "metadata": {},
   "outputs": [
    {
     "data": {
      "image/png": "[encoded data removed]",
      "text/plain": [
       "<Figure size 864x432 with 2 Axes>"
      ]
     },
     "metadata": {
      "needs_background": "light"
     },
     "output_type": "display_data"
    }
   ],
   "source": [
    "fig = plt.figure(figsize=(12,6))\n",
    "ax = fig.add_subplot(1, 1, 1)\n",
    "plot_confusion_matrix(selected_model, X_test, y_test, values_format='d', ax=ax)\n",
    "plt.show()"
   ]
  },
  {
   "cell_type": "markdown",
   "metadata": {},
   "source": [
    "## Part 3: Kaggle Competition\n",
    "\n",
    "Now that you've created a model to predict which individuals are most likely to respond to a mailout campaign, it's time to test that model in competition through Kaggle. If you click on the link [here](http://www.kaggle.com/t/21e6d45d4c574c7fa2d868f0e8c83140), you'll be taken to the competition page where, if you have a Kaggle account, you can enter. If you're one of the top performers, you may have the chance to be contacted by a hiring manager from Arvato or Bertelsmann for an interview!\n",
    "\n",
    "Your entry to the competition should be a CSV file with two columns. The first column should be a copy of \"LNR\", which acts as an ID number for each individual in the \"TEST\" partition. The second column, \"RESPONSE\", should be some measure of how likely each individual became a customer – this might not be a straightforward probability. As you should have found in Part 2, there is a large output class imbalance, where most individuals did not respond to the mailout. Thus, predicting individual classes and using accuracy does not seem to be an appropriate performance evaluation method. Instead, the competition will be using AUC to evaluate performance. The exact values of the \"RESPONSE\" column do not matter as much: only that the higher values try to capture as many of the actual customers as possible, early in the ROC curve sweep."
   ]
  },
  {
   "cell_type": "code",
   "execution_count": 22,
   "metadata": {},
   "outputs": [],
   "source": [
    "#mailout_test = pd.read_csv('../../data/Term2/capstone/arvato_data/Udacity_MAILOUT_052018_TEST.csv', sep=';', dtype=str)\n",
    "\n",
    "mailout_test = pd.read_csv('Udacity_MAILOUT_052018_TEST.csv', sep=';', dtype=str)"
   ]
  },
  {
   "cell_type": "code",
   "execution_count": 23,
   "metadata": {},
   "outputs": [
    {
     "name": "stdout",
     "output_type": "stream",
     "text": [
      "Correcting issues on edge cases...\n"
     ]
    },
    {
     "name": "stderr",
     "output_type": "stream",
     "text": [
      "[===================                                                     ]  27%\r"
     ]
    },
    {
     "name": "stdout",
     "output_type": "stream",
     "text": [
      "Checking for irregular values...\n"
     ]
    },
    {
     "name": "stderr",
     "output_type": "stream",
     "text": [
      "[========================================================================] 100%\n"
     ]
    },
    {
     "name": "stdout",
     "output_type": "stream",
     "text": [
      "Decoding missing or unknown values as NaN...\n"
     ]
    },
    {
     "name": "stderr",
     "output_type": "stream",
     "text": [
      "[========================================================================] 100%\n"
     ]
    },
    {
     "name": "stdout",
     "output_type": "stream",
     "text": [
      "getting the subset of the data with the reference features...\n",
      "Correcting data types...\n",
      "Assigning float to numeric features...\n",
      "Assigning string to qualitative features...\n"
     ]
    },
    {
     "name": "stderr",
     "output_type": "stream",
     "text": [
      "[======================                                                  ]  31%\r"
     ]
    },
    {
     "name": "stdout",
     "output_type": "stream",
     "text": [
      "Imputing missing values...\n",
      "Imputing quantitative features...\n"
     ]
    },
    {
     "name": "stderr",
     "output_type": "stream",
     "text": [
      "[========================================================================] 100%\n",
      "[========================================================================] 100%\n",
      "[                                                                        ]   0%\r"
     ]
    },
    {
     "name": "stdout",
     "output_type": "stream",
     "text": [
      "Imputing qualitative features...\n",
      "OneHot Encoding data...\n"
     ]
    },
    {
     "name": "stderr",
     "output_type": "stream",
     "text": [
      "[========================================================================] 100%\r"
     ]
    },
    {
     "name": "stdout",
     "output_type": "stream",
     "text": [
      "Finishing.\n"
     ]
    },
    {
     "name": "stderr",
     "output_type": "stream",
     "text": [
      "\n"
     ]
    }
   ],
   "source": [
    "mailout_test_cleaned,_ = etl_transform(mailout_test, attr_mapping, ref_features, scaler=None, apply_scaler=False)"
   ]
  },
  {
   "cell_type": "code",
   "execution_count": 24,
   "metadata": {},
   "outputs": [],
   "source": [
    "y_pred = selected_model.predict(mailout_test_cleaned)"
   ]
  },
  {
   "cell_type": "code",
   "execution_count": 25,
   "metadata": {},
   "outputs": [],
   "source": [
    "mailout_test_predicted = pd.DataFrame({'LNR':mailout_test_cleaned.index, 'RESPONSE':y_pred})"
   ]
  },
  {
   "cell_type": "code",
   "execution_count": 26,
   "metadata": {},
   "outputs": [],
   "source": [
    "mailout_test_predicted.to_csv('mailout_test_predicted.csv', index=False)"
   ]
  },
  {
   "cell_type": "markdown",
   "metadata": {},
   "source": [
    "Submission to Kaggle got a score of 0.49118"
   ]
  },
  {
   "cell_type": "code",
   "execution_count": null,
   "metadata": {},
   "outputs": [],
   "source": []
  }
 ],
 "metadata": {
  "kernelspec": {
   "display_name": "Python 3",
   "language": "python",
   "name": "python3"
  },
  "language_info": {
   "codemirror_mode": {
    "name": "ipython",
    "version": 3
   },
   "file_extension": ".py",
   "mimetype": "text/x-python",
   "name": "python",
   "nbconvert_exporter": "python",
   "pygments_lexer": "ipython3",
   "version": "3.7.6"
  }
 },
 "nbformat": 4,
 "nbformat_minor": 2
}
